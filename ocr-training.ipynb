{
 "cells": [
  {
   "cell_type": "code",
   "execution_count": 2,
   "id": "13d99275-5c1e-4909-9f52-84318780aeec",
   "metadata": {},
   "outputs": [],
   "source": [
    "import os\n",
    "import openai\n",
    "import glob\n",
    "import shutil\n",
    "\n",
    "from IPython.display import Image as PImage\n",
    "\n",
    "OPENAI_ORG_ID = os.getenv('OPENAI_ORG_ID')\n",
    "OPENAI_API_KEY = os.getenv('OPENAI_API_KEY')\n",
    "MODEL = \"gpt-4\"\n",
    "\n",
    "FONTS_GLOB = './ocr-fonts/*.ttf'\n",
    "OCR_IMAGES_DIR = './ocr-images'\n",
    "\n",
    "openai.organization = OPENAI_ORG_ID\n",
    "openai.api_key = OPENAI_API_KEY"
   ]
  },
  {
   "cell_type": "code",
   "execution_count": 8,
   "id": "6f0ea5c3-7b36-412e-a717-390dcf7d830a",
   "metadata": {},
   "outputs": [],
   "source": [
    "# Initialization\n",
    "\n"
   ]
  },
  {
   "cell_type": "code",
   "execution_count": 9,
   "id": "a0f61f35-5247-427d-8be4-3cd174a5e7cb",
   "metadata": {},
   "outputs": [],
   "source": [
    "fonts = glob.glob(FONTS_GLOB)\n",
    "\n",
    "if os.path.exists(OCR_IMAGES_DIR):    \n",
    "    shutil.rmtree(OCR_IMAGES_DIR)\n",
    "\n",
    "os.makedirs(OCR_IMAGES_DIR)\n",
    "    \n",
    "\n",
    "\n"
   ]
  },
  {
   "cell_type": "code",
   "execution_count": 10,
   "id": "f954bf87-28df-436d-9148-8bb7dbe86d79",
   "metadata": {},
   "outputs": [
    {
     "data": {
      "text/plain": [
       "<OpenAIObject chat.completion id=chatcmpl-8385KIzwWAORJ0ayCTxulO8qdk0KI at 0x7f7872a28770> JSON: {\n",
       "  \"id\": \"chatcmpl-8385KIzwWAORJ0ayCTxulO8qdk0KI\",\n",
       "  \"object\": \"chat.completion\",\n",
       "  \"created\": 1695756754,\n",
       "  \"model\": \"gpt-4-0613\",\n",
       "  \"choices\": [\n",
       "    {\n",
       "      \"index\": 0,\n",
       "      \"message\": {\n",
       "        \"role\": \"assistant\",\n",
       "        \"content\": \"Orange who?\"\n",
       "      },\n",
       "      \"finish_reason\": \"stop\"\n",
       "    }\n",
       "  ],\n",
       "  \"usage\": {\n",
       "    \"prompt_tokens\": 35,\n",
       "    \"completion_tokens\": 3,\n",
       "    \"total_tokens\": 38\n",
       "  }\n",
       "}"
      ]
     },
     "execution_count": 10,
     "metadata": {},
     "output_type": "execute_result"
    }
   ],
   "source": [
    "# Example OpenAI Python library request\n",
    "response = openai.ChatCompletion.create(\n",
    "    model=MODEL,\n",
    "    messages=[\n",
    "        {\"role\": \"system\", \"content\": \"You are a helpful assistant.\"},\n",
    "        {\"role\": \"user\", \"content\": \"Knock knock.\"},\n",
    "        {\"role\": \"assistant\", \"content\": \"Who's there?\"},\n",
    "        {\"role\": \"user\", \"content\": \"Orange.\"},\n",
    "    ],\n",
    "    temperature=0,\n",
    ")\n",
    "\n",
    "response\n"
   ]
  },
  {
   "cell_type": "code",
   "execution_count": 12,
   "id": "03aadecc-0298-476a-a59e-aa78d4f705d6",
   "metadata": {},
   "outputs": [
    {
     "name": "stdout",
     "output_type": "stream",
     "text": [
      "Pon)\n",
      "\f",
      "\n"
     ]
    }
   ],
   "source": [
    "import pytesseract\n",
    "\n",
    "print(pytesseract.image_to_string(Image.open('hello-w.png'), lang=\"eng\"))\n"
   ]
  },
  {
   "cell_type": "code",
   "execution_count": 1,
   "id": "ab583c21-c15f-4d01-9498-2271251a16bb",
   "metadata": {},
   "outputs": [
    {
     "name": "stdout",
     "output_type": "stream",
     "text": [
      "Helo\n",
      "Happy\n",
      "\n",
      "And\n",
      "\n",
      "Very Very Very Very Very Very Very Very Very Very Very Very Very Very Very Very Very Very Very Very Very\n",
      "\n",
      "Funny \\VWorld\n",
      "\f",
      "\n"
     ]
    },
    {
     "ename": "NameError",
     "evalue": "name 'PImage' is not defined",
     "output_type": "error",
     "traceback": [
      "\u001b[0;31m---------------------------------------------------------------------------\u001b[0m",
      "\u001b[0;31mNameError\u001b[0m                                 Traceback (most recent call last)",
      "Cell \u001b[0;32mIn[1], line 19\u001b[0m\n\u001b[1;32m     15\u001b[0m img\u001b[38;5;241m.\u001b[39msave(\u001b[38;5;124m\"\u001b[39m\u001b[38;5;124mmulti_captcha.png\u001b[39m\u001b[38;5;124m\"\u001b[39m, \u001b[38;5;124m\"\u001b[39m\u001b[38;5;124mPNG\u001b[39m\u001b[38;5;124m\"\u001b[39m)\n\u001b[1;32m     17\u001b[0m \u001b[38;5;28mprint\u001b[39m(pytesseract\u001b[38;5;241m.\u001b[39mimage_to_string(Image\u001b[38;5;241m.\u001b[39mopen(\u001b[38;5;124m'\u001b[39m\u001b[38;5;124mmulti_captcha.png\u001b[39m\u001b[38;5;124m'\u001b[39m), lang\u001b[38;5;241m=\u001b[39m\u001b[38;5;124m\"\u001b[39m\u001b[38;5;124meng\u001b[39m\u001b[38;5;124m\"\u001b[39m))\n\u001b[0;32m---> 19\u001b[0m \u001b[43mPImage\u001b[49m(filename\u001b[38;5;241m=\u001b[39m\u001b[38;5;124m\"\u001b[39m\u001b[38;5;124mmulti_captcha.png\u001b[39m\u001b[38;5;124m\"\u001b[39m)\n",
      "\u001b[0;31mNameError\u001b[0m: name 'PImage' is not defined"
     ]
    }
   ],
   "source": [
    "from PIL import Image as Image, ImageDraw, ImageFont, ImageFilter\n",
    "from multicaptcha import captcha_concat\n",
    "import pytesseract\n",
    "\n",
    "multi_text=\"\"\"\n",
    "Hello \n",
    "Happy\n",
    "And\n",
    "Very Very Very Very Very Very Very Very Very Very Very Very Very Very Very Very Very Very Very Very Very \n",
    "Funny World \n",
    "\"\"\"\n",
    "\n",
    "img = captcha_concat(multi_text, \"./ocr-fonts/Arial.ttf\", 50)\n",
    "\n",
    "img.save(\"multi_captcha.png\", \"PNG\")\n",
    "\n",
    "print(pytesseract.image_to_string(Image.open('multi_captcha.png'), lang=\"eng\"))\n",
    "\n",
    "PImage(filename=\"multi_captcha.png\")\n",
    "\n"
   ]
  },
  {
   "cell_type": "code",
   "execution_count": null,
   "id": "e0b36e5b-aa80-4362-a360-313a3677e7d6",
   "metadata": {},
   "outputs": [],
   "source": []
  }
 ],
 "metadata": {
  "kernelspec": {
   "display_name": "Python 3 (ipykernel)",
   "language": "python",
   "name": "python3"
  },
  "language_info": {
   "codemirror_mode": {
    "name": "ipython",
    "version": 3
   },
   "file_extension": ".py",
   "mimetype": "text/x-python",
   "name": "python",
   "nbconvert_exporter": "python",
   "pygments_lexer": "ipython3",
   "version": "3.10.12"
  }
 },
 "nbformat": 4,
 "nbformat_minor": 5
}
